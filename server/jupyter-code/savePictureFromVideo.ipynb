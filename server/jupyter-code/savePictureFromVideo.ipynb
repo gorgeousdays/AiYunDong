{
 "cells": [
  {
   "cell_type": "code",
   "execution_count": 29,
   "metadata": {
    "ExecuteTime": {
     "end_time": "2021-08-15T06:07:32.244063Z",
     "start_time": "2021-08-15T06:07:32.232286Z"
    }
   },
   "outputs": [],
   "source": [
    "from getdata import get_alldata\n",
    "from evaluate import getTimes,evaluate\n",
    "from jsoncreator import video_to_json\n",
    "from saveresult import savereuslt\n",
    "from fastdtw import fastdtw\n",
    "import math"
   ]
  },
  {
   "cell_type": "code",
   "execution_count": 30,
   "metadata": {
    "ExecuteTime": {
     "end_time": "2021-08-15T06:07:32.569356Z",
     "start_time": "2021-08-15T06:07:32.553307Z"
    }
   },
   "outputs": [],
   "source": [
    "import copy\n",
    "from scipy.spatial.distance import euclidean"
   ]
  },
  {
   "cell_type": "code",
   "execution_count": 31,
   "metadata": {
    "ExecuteTime": {
     "end_time": "2021-08-15T06:07:32.943520Z",
     "start_time": "2021-08-15T06:07:32.916924Z"
    }
   },
   "outputs": [],
   "source": [
    "stanard_anglist=get_alldata(\"./jsonfile/standard/\")#获取标准动作\n",
    "now_anglist,now_xy_list,W=get_alldata(\"./jsonfile/now/\",isRunning=True)#获取当前动作信息\n",
    "times = getTimes(now_xy_list,0,\"test\")#计算运动个数 由于采用头部计数 传入0 头部的X即为各个List的第一个值 \n",
    "#proposal=evaluate(stanard_anglist,now_anglist,int(times))"
   ]
  },
  {
   "cell_type": "code",
   "execution_count": 32,
   "metadata": {
    "ExecuteTime": {
     "end_time": "2021-08-15T06:07:33.300890Z",
     "start_time": "2021-08-15T06:07:33.293249Z"
    }
   },
   "outputs": [],
   "source": [
    "temp = copy.deepcopy(stanard_anglist)\n",
    "for i in range(int(times)- 1):\n",
    "    for j in range(len(temp)):\n",
    "        stanard_anglist.append(temp[j])"
   ]
  },
  {
   "cell_type": "code",
   "execution_count": 33,
   "metadata": {
    "ExecuteTime": {
     "end_time": "2021-08-15T06:07:33.661357Z",
     "start_time": "2021-08-15T06:07:33.644351Z"
    }
   },
   "outputs": [],
   "source": [
    "#动态规整，返回规整的结果\n",
    "def fastDtw(nowList, standardList):\n",
    "    distance, path = fastdtw(nowList, standardList, dist=euclidean)\n",
    "    return path"
   ]
  },
  {
   "cell_type": "code",
   "execution_count": 34,
   "metadata": {
    "ExecuteTime": {
     "end_time": "2021-08-15T06:07:34.078955Z",
     "start_time": "2021-08-15T06:07:34.051100Z"
    }
   },
   "outputs": [],
   "source": [
    "path = fastDtw(now_anglist, stanard_anglist) #当前序列在前，标准序列在后"
   ]
  },
  {
   "cell_type": "code",
   "execution_count": 35,
   "metadata": {
    "ExecuteTime": {
     "end_time": "2021-08-15T06:07:34.746778Z",
     "start_time": "2021-08-15T06:07:34.734471Z"
    }
   },
   "outputs": [],
   "source": [
    "# 根据path对两个list对齐\n",
    "def cal_avg(testList, start, end):\n",
    "    result = [0, 0, 0, 0, 0, 0, 0, 0]#由于存在8个角度值，result的size为8\n",
    "    div = end - start + 1\n",
    "    while start <= end:\n",
    "        for i in range(8):\n",
    "            result[i] += testList[start][i]\n",
    "        start += 1\n",
    "    for i in range(8):\n",
    "        result[i] = result[i] / div\n",
    "    return result\n",
    "def alignedList(nowList, standardList, path):\n",
    "    runningNowList = []\n",
    "    runningStandardList = []\n",
    "    ix = 0\n",
    "    ixNext = 1\n",
    "    while ixNext < len(path):\n",
    "        if path[ix][0] != path[ixNext][0] and path[ix][1] != path[ixNext][1]:\n",
    "            runningNowList.append(nowList[path[ix][0]])\n",
    "            runningStandardList.append(standardList[path[ix][1]])\n",
    "            ix += 1\n",
    "            ixNext += 1\n",
    "        elif path[ix][0] == path[ixNext][0]:\n",
    "            #next一直往下取，直至找到存在不重复的\n",
    "            while ixNext < len(path) and path[ix][0] == path[ixNext][0]:\n",
    "                ixNext += 1\n",
    "            #当前的List即填充对应值，标准列表由于存在跳变，计算中间的平均值\n",
    "            runningNowList.append(nowList[path[ix][0]])\n",
    "            runningStandardList.append(cal_avg(standardList, path[ix][1], path[ixNext - 1][1]))\n",
    "            ix = ixNext\n",
    "            ixNext += 1\n",
    "        elif path[ix][1] == path[ixNext][1]: \n",
    "            while ixNext < len(path) and path[ix][1] == path[ixNext][1]:\n",
    "                ixNext += 1\n",
    "            runningNowList.append(cal_avg(nowList, path[ix][0], path[ixNext - 1][0]))\n",
    "            runningStandardList.append(standardList[path[ix][1]])\n",
    "            ix = ixNext\n",
    "            ixNext += 1\n",
    "    return runningNowList, runningStandardList"
   ]
  },
  {
   "cell_type": "code",
   "execution_count": 36,
   "metadata": {
    "ExecuteTime": {
     "end_time": "2021-08-15T06:07:35.651711Z",
     "start_time": "2021-08-15T06:07:35.646719Z"
    }
   },
   "outputs": [],
   "source": [
    "runningNowList, runningStandardList = alignedList(now_anglist, stanard_anglist, path)"
   ]
  },
  {
   "cell_type": "code",
   "execution_count": null,
   "metadata": {},
   "outputs": [],
   "source": []
  },
  {
   "cell_type": "code",
   "execution_count": null,
   "metadata": {},
   "outputs": [],
   "source": []
  },
  {
   "cell_type": "code",
   "execution_count": null,
   "metadata": {},
   "outputs": [],
   "source": []
  },
  {
   "cell_type": "code",
   "execution_count": null,
   "metadata": {},
   "outputs": [],
   "source": []
  },
  {
   "cell_type": "code",
   "execution_count": null,
   "metadata": {},
   "outputs": [],
   "source": []
  },
  {
   "cell_type": "code",
   "execution_count": 37,
   "metadata": {
    "ExecuteTime": {
     "end_time": "2021-08-15T06:07:36.083493Z",
     "start_time": "2021-08-15T06:07:36.077897Z"
    }
   },
   "outputs": [],
   "source": [
    "#接下来求runningNowList中与runningStandardList差距最大的一帧，记录并匹配返回"
   ]
  },
  {
   "cell_type": "code",
   "execution_count": 167,
   "metadata": {
    "ExecuteTime": {
     "end_time": "2021-08-15T06:50:01.351118Z",
     "start_time": "2021-08-15T06:50:01.340290Z"
    }
   },
   "outputs": [],
   "source": [
    "def cul_max_distance(runningNowList,runningStandardList):#计算两个序列中最大的差距值的i值 即runningNowList[i][j]与 runningStandardList[i][j]相差最大\n",
    "    #只判断上半身的差距\n",
    "    max=0\n",
    "    max_i=0\n",
    "    max_j=0\n",
    "    for i in range(len(runningNowList)):\n",
    "        if i<2:continue   #不计算前两个，可能还没准备好\n",
    "        if runningNowList[i][1]>0:continue #表示手臂未大弯曲状态\n",
    "        temp=0\n",
    "        for j in range(4):#len(runningNowList[0])-4 上半身四个点\n",
    "            temp+=abs(runningNowList[i][j]-runningStandardList[i][j])\n",
    "        if temp>max:\n",
    "            max=temp\n",
    "            max_i=i\n",
    "            max_j=j\n",
    "    return max_i,max_j,max#返回最大差距信息"
   ]
  },
  {
   "cell_type": "code",
   "execution_count": 168,
   "metadata": {
    "ExecuteTime": {
     "end_time": "2021-08-15T06:50:01.708233Z",
     "start_time": "2021-08-15T06:50:01.700363Z"
    }
   },
   "outputs": [
    {
     "data": {
      "text/plain": [
       "10"
      ]
     },
     "execution_count": 168,
     "metadata": {},
     "output_type": "execute_result"
    }
   ],
   "source": [
    "max_i,_,__=cul_max_distance(runningNowList,runningStandardList)\n",
    "max_i"
   ]
  },
  {
   "cell_type": "code",
   "execution_count": 169,
   "metadata": {
    "ExecuteTime": {
     "end_time": "2021-08-15T06:50:09.744288Z",
     "start_time": "2021-08-15T06:50:09.729239Z"
    }
   },
   "outputs": [],
   "source": [
    "def find_max_distance_index(now_anglist,runningNowList,max_i):#找到原视频中相差最大的一帧的下标，传入全列表,动态规整后列表和最大值所在的位置i，j\n",
    "    num=2#这里的num即为opencv分割视频的num\n",
    "    \n",
    "    min=100\n",
    "    min_i=0\n",
    "    for i in range(len(now_anglist)):\n",
    "        #由于runningNowList可能为填充值，所以找最小差距帧\n",
    "        temp=0\n",
    "        for j in range(len(runningNowList[0])):\n",
    "            if runningNowList[max_i][0]==now_anglist[i][0]:\n",
    "                return i*num#有相等的就直接返回\n",
    "            if now_anglist[i][1]>0:\n",
    "                continue\n",
    "            temp+=abs(runningNowList[max_i][j]-now_anglist[i][j])\n",
    "            if(temp<min):\n",
    "                min=temp\n",
    "                min_i=i\n",
    "    return min_i*2,min #返回对应帧，与差距"
   ]
  },
  {
   "cell_type": "code",
   "execution_count": 170,
   "metadata": {
    "ExecuteTime": {
     "end_time": "2021-08-15T06:50:10.322264Z",
     "start_time": "2021-08-15T06:50:10.311125Z"
    }
   },
   "outputs": [],
   "source": [
    "pic_index,_=find_max_distance_index(now_anglist,runningNowList,max_i)"
   ]
  },
  {
   "cell_type": "code",
   "execution_count": 176,
   "metadata": {
    "ExecuteTime": {
     "end_time": "2021-08-15T06:53:49.610828Z",
     "start_time": "2021-08-15T06:53:49.594856Z"
    }
   },
   "outputs": [],
   "source": [
    "import cv2\n",
    "import matplotlib.pyplot as plt\n",
    "import time"
   ]
  },
  {
   "cell_type": "code",
   "execution_count": 177,
   "metadata": {
    "ExecuteTime": {
     "end_time": "2021-08-15T06:53:49.982805Z",
     "start_time": "2021-08-15T06:53:49.971691Z"
    }
   },
   "outputs": [
    {
     "name": "stdout",
     "output_type": "stream",
     "text": [
      "94\n"
     ]
    }
   ],
   "source": [
    "print(pic_index)"
   ]
  },
  {
   "cell_type": "code",
   "execution_count": 194,
   "metadata": {
    "ExecuteTime": {
     "end_time": "2021-08-15T07:03:21.488888Z",
     "start_time": "2021-08-15T07:03:21.471557Z"
    }
   },
   "outputs": [],
   "source": [
    "def savePictureFromVideo(video_path,save_path,save_name,pic_index,ifdraw):#传入视频位置、保存位置、保存名称、截取图片下标、是否画点\n",
    "    cap = cv2.VideoCapture(video_path)\n",
    "    num_frame = cap.get(cv2.CAP_PROP_FRAME_COUNT)#获取视频总帧数\n",
    "    count=-1\n",
    "    while 1:\n",
    "        ret, frame = cap.read()\n",
    "        count+=1\n",
    "        if pic_index== count:\n",
    "            #plt.figure()\n",
    "            #plt.imshow(frame)\n",
    "            #plt.show()\n",
    "            if ifdraw==True:\n",
    "                #画图代码见draw，还需读对应josn结合一下，有点麻烦，懒的写了\n",
    "                pass\n",
    "            cv2.imwrite(save_path+save_name+'.jpg', frame) \n",
    "        if not ret:\n",
    "            break"
   ]
  },
  {
   "cell_type": "code",
   "execution_count": 196,
   "metadata": {
    "ExecuteTime": {
     "end_time": "2021-08-15T07:03:28.258820Z",
     "start_time": "2021-08-15T07:03:27.933852Z"
    }
   },
   "outputs": [],
   "source": [
    "savePictureFromVideo('chinning.avi','imgfile/',str(int(time.time())),pic_index,False)"
   ]
  },
  {
   "cell_type": "code",
   "execution_count": 1,
   "metadata": {
    "ExecuteTime": {
     "end_time": "2021-08-15T07:14:20.373821Z",
     "start_time": "2021-08-15T07:14:20.361183Z"
    }
   },
   "outputs": [],
   "source": [
    "#保存视频中差距最大的图像至指定位置\n",
    "def cul_max_distance(runningNowList,runningStandardList):#计算两个序列中最大的差距值的i值 即runningNowList[i][j]与 runningStandardList[i][j]相差最大\n",
    "    #只判断上半身的差距\n",
    "    max=0\n",
    "    max_i=0\n",
    "    max_j=0\n",
    "    for i in range(len(runningNowList)):\n",
    "        if i<2:continue   #不计算前两个，可能还没准备好\n",
    "        if runningNowList[i][1]>0:continue #表示手臂未大弯曲状态\n",
    "        temp=0\n",
    "        for j in range(4):#len(runningNowList[0])-4 上半身四个点\n",
    "            temp+=abs(runningNowList[i][j]-runningStandardList[i][j])\n",
    "        if temp>max:\n",
    "            max=temp\n",
    "            max_i=i\n",
    "            max_j=j\n",
    "    return max_i,max_j,max#返回最大差距信息\n",
    "\n",
    "\n",
    "def find_max_distance_index(now_anglist,runningNowList,max_i):#找到原视频中相差最大的一帧的下标，传入全列表,动态规整后列表和最大值所在的位置i，j\n",
    "    num=2#这里的num即为opencv分割视频的num\n",
    "    \n",
    "    min=100\n",
    "    min_i=0\n",
    "    for i in range(len(now_anglist)):\n",
    "        #由于runningNowList可能为填充值，所以找最小差距帧\n",
    "        temp=0\n",
    "        for j in range(len(runningNowList[0])):\n",
    "            if runningNowList[max_i][0]==now_anglist[i][0]:\n",
    "                return i*num#有相等的就直接返回\n",
    "            if now_anglist[i][1]>0:\n",
    "                continue\n",
    "            temp+=abs(runningNowList[max_i][j]-now_anglist[i][j])\n",
    "            if(temp<min):\n",
    "                min=temp\n",
    "                min_i=i\n",
    "    return min_i*2,min #返回对应帧，与差距\n",
    "\n",
    "def savePictureFromVideo(video_path,save_path,save_name,pic_index,ifdraw):#传入视频位置、保存位置、保存名称、截取图片下标、是否画点\n",
    "    cap = cv2.VideoCapture(video_path)\n",
    "    num_frame = cap.get(cv2.CAP_PROP_FRAME_COUNT)#获取视频总帧数\n",
    "    count=-1\n",
    "    while 1:\n",
    "        ret, frame = cap.read()\n",
    "        count+=1\n",
    "        if pic_index== count:\n",
    "            #plt.figure()\n",
    "            #plt.imshow(frame)\n",
    "            #plt.show()\n",
    "            if ifdraw==True:\n",
    "                #画图代码见draw，还需读对应josn结合一下，有点麻烦，懒的写了\n",
    "                pass\n",
    "            cv2.imwrite(save_path+save_name+'.jpg', frame) \n",
    "        if not ret:\n",
    "            break\n",
    "            "
   ]
  },
  {
   "cell_type": "code",
   "execution_count": 2,
   "metadata": {
    "ExecuteTime": {
     "end_time": "2021-08-15T07:14:21.856404Z",
     "start_time": "2021-08-15T07:14:20.887411Z"
    }
   },
   "outputs": [],
   "source": [
    "import copy\n",
    "from scipy.spatial.distance import euclidean\n",
    "from getdata import get_alldata\n",
    "from evaluate import getTimes,evaluate,fastDtw,alignedList\n",
    "from jsoncreator import video_to_json\n",
    "from saveresult import savereuslt\n",
    "import math\n",
    "import cv2\n",
    "import matplotlib.pyplot as plt\n",
    "import time\n",
    "\n",
    "\n",
    "stanard_anglist=get_alldata(\"./jsonfile/standard/\")#获取标准动作\n",
    "now_anglist,now_xy_list,W=get_alldata(\"./jsonfile/now/\",isRunning=True)#获取当前动作信息\n",
    "times = getTimes(now_xy_list,0,\"test\")#计算运动个数 由于采用头部计数 传入0 头部的X即为各个List的第一个值 \n",
    "#proposal=evaluate(stanard_anglist,now_anglist,int(times))\n",
    "path = fastDtw(now_anglist, stanard_anglist) #当前序列在前，标准序列在后\n",
    "runningNowList, runningStandardList = alignedList(now_anglist, stanard_anglist, path)\n",
    "\n",
    "#接下来求runningNowList中与runningStandardList差距最大的一帧，记录并匹配返回\n",
    "max_i,_,__=cul_max_distance(runningNowList,runningStandardList)#获取runningNowList中最大差距帧\n",
    "\n",
    "pic_index,_=find_max_distance_index(now_anglist,runningNowList,max_i)#获取now_anglist最大差距帧，即与runningNowList最接近的一帧\n",
    "savePictureFromVideo('chinning.avi','imgfile/',str(int(time.time())),pic_index,False)#保存该帧"
   ]
  },
  {
   "cell_type": "code",
   "execution_count": null,
   "metadata": {},
   "outputs": [],
   "source": []
  }
 ],
 "metadata": {
  "kernelspec": {
   "display_name": "Python 3",
   "language": "python",
   "name": "python3"
  },
  "language_info": {
   "codemirror_mode": {
    "name": "ipython",
    "version": 3
   },
   "file_extension": ".py",
   "mimetype": "text/x-python",
   "name": "python",
   "nbconvert_exporter": "python",
   "pygments_lexer": "ipython3",
   "version": "3.6.7"
  },
  "toc": {
   "base_numbering": 1,
   "nav_menu": {},
   "number_sections": true,
   "sideBar": true,
   "skip_h1_title": false,
   "title_cell": "Table of Contents",
   "title_sidebar": "Contents",
   "toc_cell": false,
   "toc_position": {},
   "toc_section_display": true,
   "toc_window_display": false
  }
 },
 "nbformat": 4,
 "nbformat_minor": 4
}
