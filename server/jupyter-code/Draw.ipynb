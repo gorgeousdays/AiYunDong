{
 "cells": [
  {
   "cell_type": "code",
   "execution_count": 3,
   "metadata": {
    "ExecuteTime": {
     "end_time": "2021-07-26T02:27:14.899574Z",
     "start_time": "2021-07-26T02:27:14.881577Z"
    }
   },
   "outputs": [],
   "source": [
    "import json\n",
    "with open('./1.json','r',encoding='utf8')as fp:\n",
    "    json_data = json.load(fp)"
   ]
  },
  {
   "cell_type": "code",
   "execution_count": 4,
   "metadata": {
    "ExecuteTime": {
     "end_time": "2021-07-26T02:27:19.591076Z",
     "start_time": "2021-07-26T02:27:19.575066Z"
    }
   },
   "outputs": [
    {
     "data": {
      "text/plain": [
       "{'BodyJointsResults': [{'BoundBox': {'X': 327,\n",
       "    'Y': 124,\n",
       "    'Width': 393,\n",
       "    'Height': 727},\n",
       "   'BodyJoints': [{'KeyPointType': '头部', 'X': 504.41015625, 'Y': 188.91796875},\n",
       "    {'KeyPointType': '颈部', 'X': 504.41015625, 'Y': 241.65234375},\n",
       "    {'KeyPointType': '右肩', 'X': 567.69140625, 'Y': 268.01953125},\n",
       "    {'KeyPointType': '右肘', 'X': 636.24609375, 'Y': 315.48046875},\n",
       "    {'KeyPointType': '右腕', 'X': 641.51953125, 'Y': 236.37890625},\n",
       "    {'KeyPointType': '左肩', 'X': 441.12890625, 'Y': 262.74609375},\n",
       "    {'KeyPointType': '左肘', 'X': 367.30078125, 'Y': 315.48046875},\n",
       "    {'KeyPointType': '左腕', 'X': 362.02734375, 'Y': 231.10546875},\n",
       "    {'KeyPointType': '右髋', 'X': 536.05078125, 'Y': 473.68359375},\n",
       "    {'KeyPointType': '右膝', 'X': 551.87109375, 'Y': 616.06640625},\n",
       "    {'KeyPointType': '右踝', 'X': 493.86328125, 'Y': 679.34765625},\n",
       "    {'KeyPointType': '左髋', 'X': 472.76953125, 'Y': 468.41015625},\n",
       "    {'KeyPointType': '左膝', 'X': 451.67578125, 'Y': 600.24609375},\n",
       "    {'KeyPointType': '左踝', 'X': 483.31640625, 'Y': 705.71484375}],\n",
       "   'Confidence': 0.9999996423721313}],\n",
       " 'RequestId': '642cbad1-d48a-4636-980d-786780392831'}"
      ]
     },
     "execution_count": 4,
     "metadata": {},
     "output_type": "execute_result"
    }
   ],
   "source": [
    "json_data"
   ]
  },
  {
   "cell_type": "code",
   "execution_count": 41,
   "metadata": {
    "ExecuteTime": {
     "end_time": "2021-07-26T02:51:04.356251Z",
     "start_time": "2021-07-26T02:51:04.351252Z"
    }
   },
   "outputs": [
    {
     "data": {
      "text/plain": [
       "{'KeyPointType': '右髋', 'X': 536.05078125, 'Y': 473.68359375}"
      ]
     },
     "execution_count": 41,
     "metadata": {},
     "output_type": "execute_result"
    }
   ],
   "source": [
    "json_data['BodyJointsResults'][0]['BodyJoints'][8]"
   ]
  },
  {
   "cell_type": "code",
   "execution_count": 33,
   "metadata": {
    "ExecuteTime": {
     "end_time": "2021-07-26T02:41:30.721979Z",
     "start_time": "2021-07-26T02:41:30.704974Z"
    }
   },
   "outputs": [],
   "source": [
    "x_num=[]\n",
    "y_num=[]\n",
    "for i in range(14):\n",
    "    x_num.append(json_data['BodyJointsResults'][0]['BodyJoints'][i]['X'])\n",
    "    y_num.append(json_data['BodyJointsResults'][0]['BodyJoints'][i]['Y'])"
   ]
  },
  {
   "cell_type": "code",
   "execution_count": 34,
   "metadata": {
    "ExecuteTime": {
     "end_time": "2021-07-26T02:41:32.326225Z",
     "start_time": "2021-07-26T02:41:32.307253Z"
    }
   },
   "outputs": [
    {
     "data": {
      "text/plain": [
       "[504.41015625,\n",
       " 504.41015625,\n",
       " 567.69140625,\n",
       " 636.24609375,\n",
       " 641.51953125,\n",
       " 441.12890625,\n",
       " 367.30078125,\n",
       " 362.02734375,\n",
       " 536.05078125,\n",
       " 551.87109375,\n",
       " 493.86328125,\n",
       " 472.76953125,\n",
       " 451.67578125,\n",
       " 483.31640625]"
      ]
     },
     "execution_count": 34,
     "metadata": {},
     "output_type": "execute_result"
    }
   ],
   "source": [
    "x_num"
   ]
  },
  {
   "cell_type": "code",
   "execution_count": 52,
   "metadata": {
    "ExecuteTime": {
     "end_time": "2021-07-26T03:08:05.483796Z",
     "start_time": "2021-07-26T03:08:05.200796Z"
    }
   },
   "outputs": [
    {
     "data": {
      "image/png": "[encoded data removed]",
      "text/plain": [
       "<Figure size 432x288 with 1 Axes>"
      ]
     },
     "metadata": {
      "needs_background": "light"
     },
     "output_type": "display_data"
    }
   ],
   "source": [
    "#绘图demo\n",
    "import matplotlib.pyplot as plt\n",
    "#x = [[x_num[0], x_num[1]], [x_num[1], x_num[2]],[x_num[2], x_num[3]],[x_num[3], x_num[4]]] # 要连接的两个点的坐标\n",
    "#y = [[y_num[0], y_num[1]], [y_num[1], y_num[2]],[y_num[2], y_num[3]],[y_num[3], y_num[4]]]\n",
    "\n",
    "x=[]\n",
    "y=[]\n",
    "links=[[0,1],[1,2],[2,3],[3,4],[1,5],[5,6],[6,7],[8,9],[9,10],[11,12],[12,13]]#表示部位之间存在的连接\n",
    "for link in links:\n",
    "    x.append([x_num[link[0]],x_num[link[1]]])\n",
    "    y.append([y_num[link[0]],y_num[link[1]]])\n",
    "for i in range(len(x)):\n",
    "    plt.plot(x[i], y[i], color='r')\n",
    "    plt.scatter(x[i], y[i], color='b')\n",
    "    \n",
    "    \n",
    "#翻转坐标轴\n",
    "ax = plt.gca()                                 #获取到当前坐标轴信息\n",
    "ax.xaxis.set_ticks_position('top')   #将X坐标轴移到上面\n",
    "ax.invert_yaxis()                            #反转Y坐标轴\n",
    "ax.set_aspect(1)         #设置x,y刻度相同\n",
    "\n",
    "plt.show()"
   ]
  },
  {
   "cell_type": "code",
   "execution_count": 54,
   "metadata": {
    "ExecuteTime": {
     "end_time": "2021-07-26T03:08:38.081983Z",
     "start_time": "2021-07-26T03:08:37.776026Z"
    }
   },
   "outputs": [
    {
     "data": {
      "image/png": "[encoded data removed]",
      "text/plain": [
       "<Figure size 432x288 with 1 Axes>"
      ]
     },
     "metadata": {
      "needs_background": "light"
     },
     "output_type": "display_data"
    }
   ],
   "source": [
    "#为了使得中间连接上 去左右髋的中点与颈部相连绘图\n",
    "x.append([(x_num[8]+x_num[11])/2,x_num[1]])\n",
    "x.append([(x_num[8]+x_num[11])/2,x_num[8]])\n",
    "x.append([(x_num[8]+x_num[11])/2,x_num[11]])\n",
    "y.append([(y_num[8]+y_num[11])/2,y_num[1]])\n",
    "y.append([(y_num[8]+y_num[11])/2,y_num[8]])\n",
    "y.append([(y_num[8]+y_num[11])/2,y_num[11]])\n",
    "for i in range(len(x)):\n",
    "    plt.plot(x[i], y[i], color='r')\n",
    "    plt.scatter(x[i], y[i], color='b')\n",
    "    \n",
    "    \n",
    "#翻转坐标轴\n",
    "ax = plt.gca()                                 #获取到当前坐标轴信息\n",
    "ax.xaxis.set_ticks_position('top')   #将X坐标轴移到上面\n",
    "ax.invert_yaxis()                            #反转Y坐标轴\n",
    "ax.set_aspect(1)         #设置x,y刻度相同\n",
    "\n",
    "plt.show()"
   ]
  },
  {
   "cell_type": "code",
   "execution_count": 5,
   "metadata": {
    "ExecuteTime": {
     "end_time": "2021-07-27T03:03:44.858634Z",
     "start_time": "2021-07-27T03:03:44.585672Z"
    }
   },
   "outputs": [
    {
     "data": {
      "image/png": "[encoded data removed]",
      "text/plain": [
       "<Figure size 432x288 with 1 Axes>"
      ]
     },
     "metadata": {
      "needs_background": "light"
     },
     "output_type": "display_data"
    }
   ],
   "source": [
    "import json\n",
    "import matplotlib.pyplot as plt\n",
    "def draw_json(path):\n",
    "\n",
    "    with open(path,'r',encoding='utf8')as fp:\n",
    "        json_data = json.load(fp)\n",
    "    x_num=[]\n",
    "    y_num=[]\n",
    "    for i in range(14):\n",
    "        x_num.append(json_data['BodyJointsResults'][0]['BodyJoints'][i]['X'])\n",
    "        y_num.append(json_data['BodyJointsResults'][0]['BodyJoints'][i]['Y'])\n",
    "    x=[]\n",
    "    y=[]\n",
    "    links=[[0,1],[1,2],[2,3],[3,4],[1,5],[5,6],[6,7],[8,9],[9,10],[11,12],[12,13]]#表示部位之间存在的连接\n",
    "    for link in links:\n",
    "        x.append([x_num[link[0]],x_num[link[1]]])\n",
    "        y.append([y_num[link[0]],y_num[link[1]]])\n",
    "    #为了使得中间连接上 去左右髋的中点与颈部相连绘图\n",
    "    \n",
    "    x.append([(x_num[8]+x_num[11])/2,x_num[1]])\n",
    "    x.append([(x_num[8]+x_num[11])/2,x_num[8]])\n",
    "    x.append([(x_num[8]+x_num[11])/2,x_num[11]])\n",
    "    y.append([(y_num[8]+y_num[11])/2,y_num[1]])\n",
    "    y.append([(y_num[8]+y_num[11])/2,y_num[8]])\n",
    "    y.append([(y_num[8]+y_num[11])/2,y_num[11]])\n",
    "    for i in range(len(x)):\n",
    "        plt.plot(x[i], y[i], color='r')\n",
    "        plt.scatter(x[i], y[i], color='b')\n",
    "    #翻转坐标轴\n",
    "    ax = plt.gca()                                 #获取到当前坐标轴信息\n",
    "    ax.xaxis.set_ticks_position('top')   #将X坐标轴移到上面\n",
    "    ax.invert_yaxis()                            #反转Y坐标轴\n",
    "    ax.set_aspect(1)         #设置x,y刻度相同\n",
    "\n",
    "    plt.show()\n",
    "    \n",
    "draw_json('./临时文件/1.json')"
   ]
  },
  {
   "cell_type": "code",
   "execution_count": null,
   "metadata": {},
   "outputs": [],
   "source": []
  }
 ],
 "metadata": {
  "kernelspec": {
   "display_name": "Python 3",
   "language": "python",
   "name": "python3"
  },
  "language_info": {
   "codemirror_mode": {
    "name": "ipython",
    "version": 3
   },
   "file_extension": ".py",
   "mimetype": "text/x-python",
   "name": "python",
   "nbconvert_exporter": "python",
   "pygments_lexer": "ipython3",
   "version": "3.6.7"
  },
  "toc": {
   "base_numbering": 1,
   "nav_menu": {},
   "number_sections": true,
   "sideBar": true,
   "skip_h1_title": false,
   "title_cell": "Table of Contents",
   "title_sidebar": "Contents",
   "toc_cell": false,
   "toc_position": {},
   "toc_section_display": true,
   "toc_window_display": false
  }
 },
 "nbformat": 4,
 "nbformat_minor": 4
}
