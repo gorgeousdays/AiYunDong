{
 "cells": [
  {
   "cell_type": "code",
   "execution_count": 9,
   "metadata": {
    "ExecuteTime": {
     "end_time": "2021-07-27T05:14:08.259005Z",
     "start_time": "2021-07-27T05:14:08.241431Z"
    }
   },
   "outputs": [
    {
     "name": "stdout",
     "output_type": "stream",
     "text": [
      "[(0, 0), (1, 0), (2, 1), (3, 2), (4, 2)]\n"
     ]
    }
   ],
   "source": [
    "'''\n",
    "#测试动态规整 fastdtw\n",
    "import numpy as np\n",
    "from scipy.spatial.distance import euclidean\n",
    "\n",
    "from fastdtw import fastdtw\n",
    "\n",
    "x = np.array([[1,1], [2,2], [3,3], [4,4], [5,5]])\n",
    "y = np.array([[2,2], [3,3], [4,4]])\n",
    "distance, path = fastdtw(x, y, dist=euclidean)\n",
    "print(path)"
   ]
  },
  {
   "cell_type": "code",
   "execution_count": 26,
   "metadata": {
    "ExecuteTime": {
     "end_time": "2021-07-27T06:11:13.803854Z",
     "start_time": "2021-07-27T06:11:13.778736Z"
    }
   },
   "outputs": [
    {
     "data": {
      "text/plain": [
       "'\\nif __name__ == \"__main__\":\\n    stanard_anglist=get_alldata(\"./standard/\")\\n'"
      ]
     },
     "execution_count": 26,
     "metadata": {},
     "output_type": "execute_result"
    }
   ],
   "source": [
    "#调用get_alldata函数传入文件夹名称 实现json序列的角度获取\n",
    "import os\n",
    "import json\n",
    "import numpy as np\n",
    "import glob\n",
    "import time\n",
    "import math\n",
    "\n",
    "class standardPoint:\n",
    "    def __init__(self, x = None, y = None):\n",
    "        self.x = x\n",
    "        self.y = y\n",
    "\t\t\n",
    "    def __sub__(self, other):\n",
    "        return standardPoint(self.x - other.x, self.y - other.y)\n",
    "        \n",
    "    def norm(self):\n",
    "        return math.sqrt(self.x ** 2 + self.y ** 2)\n",
    "        \n",
    "    def cos_points(self, other):#求两线的cos角，即两个肢体部位\n",
    "        if self.norm()*other.norm() != 0:\n",
    "            return (self.x * other.x + self.y * other.y) / (self.norm()*other.norm())\n",
    "        else:\n",
    "            return 0\n",
    "\n",
    "#对一个动作（即一帧）进行标准化处理 输入一帧的XY序列 返回标准化后结果\n",
    "def standardAction(Action):\n",
    "    standardList = []\n",
    "    coorcnt = 0\n",
    "    x = 0.0\n",
    "    y = 0.0\n",
    "\n",
    "    for cor in Action:\n",
    "        if 0 == coorcnt:\n",
    "            x = cor\n",
    "            coorcnt += 1\n",
    "            continue\n",
    "        if 1 == coorcnt:\n",
    "            y = cor\n",
    "            coorcnt =0\n",
    "            standardList.append(standardPoint(x, y))\n",
    "            continue\n",
    "    return standardList\n",
    "\n",
    "#输入一个标准化动作 返回该动作中蕴含的有效角度信息\n",
    "def cul_angle(aStdAction):\n",
    "    #print(aStdAction[24].x)\n",
    "    Ang_List = []\n",
    "    body = []\n",
    "    # 部位向量值\n",
    "    body.append(aStdAction[0] - aStdAction[1])  # 头颈\n",
    "    body.append(aStdAction[5] - aStdAction[2])  # 肩膀\n",
    "    body.append(aStdAction[2] - aStdAction[3])  # 右上臂\n",
    "    body.append(aStdAction[3] - aStdAction[4])  # 右前臂    \n",
    "    body.append(aStdAction[5] - aStdAction[6])  # 左上臂\n",
    "    body.append(aStdAction[6] - aStdAction[7])  # 左前臂  \n",
    "    \n",
    "    body.append(aStdAction[8] - aStdAction[11])  # 髋部\n",
    "    body.append(aStdAction[8] - aStdAction[9])  # 右大腿\n",
    "    body.append(aStdAction[9] - aStdAction[10])  # 右小腿\n",
    "    body.append(aStdAction[11] - aStdAction[12])  # 左大腿\n",
    "    body.append(aStdAction[12] - aStdAction[13])  # 左小腿\n",
    "    # 计算部位之间角度\n",
    "    Ang_List.append(body[2].cos_points(body[1]))  # 右肩臂\n",
    "    Ang_List.append(body[3].cos_points(body[2]))  # 右肘\n",
    "    Ang_List.append(body[4].cos_points(body[1]))  # 左肩臂\n",
    "    Ang_List.append(body[5].cos_points(body[4]))  # 左肘\n",
    "    \n",
    "    Ang_List.append(body[7].cos_points(body[6]))  # 右胯\n",
    "    Ang_List.append(body[8].cos_points(body[7]))  # 右膝\n",
    "    Ang_List.append(body[9].cos_points(body[6]))  # 左胯\n",
    "    Ang_List.append(body[10].cos_points(body[9]))  # 左膝\n",
    "\n",
    "    return Ang_List\n",
    "\n",
    "#计算做功\n",
    "def getCountW(meanposls, judgeState):\n",
    "    W = 0\n",
    "    framecnt = len(meanposls)\n",
    "    # 计算做功\n",
    "    for t in range(1, framecnt):\n",
    "        W += np.abs(meanposls[t] - meanposls[t - 1])\n",
    "    return W\n",
    "\n",
    "#输入全部帧 返回每一帧的XY标准化序列集合  即[[][]......]\n",
    "def get_all_XY(orglist):\n",
    "    standard_XY_list = []\n",
    "    for aAction in orglist:\n",
    "        standard_XY_list.append(standardAction(aAction))\n",
    "    return standard_XY_list\n",
    "\n",
    "#输入全部帧 返回每一帧的有效角度信息\n",
    "def get_all_angle(orglist):\n",
    "    Angle_List = []\n",
    "    for aAction in orglist:\n",
    "        #print(aAction)\n",
    "        Angle_List.append(cul_angle(standardAction(aAction)))\n",
    "    return  Angle_List\n",
    "\n",
    "#为了实现读取到的文件按照时间排序\n",
    "def search_all_files_return_by_time_reversed(path, reverse=False):\n",
    "    return sorted(glob.glob(os.path.join(path,'*')), key=lambda x: time.strftime(\"%Y-%m-%d %H:%M:%S\", time.localtime(os.path.getctime(x))), reverse=reverse)\n",
    "\n",
    "\n",
    "# 现在采用头部计数，如果用其它部位计数，则修改judgeState并写判断语句\n",
    "# isRunning用来判断调用这个函数的json是否是要用于评价的，如果不是，则不需要getCount得到个数和能量，类似重用\n",
    "def get_alldata(runningPath, judgeState=\"\", isRunning=False):\n",
    "    origList = []#存储全部帧的点集合\n",
    "    countList = []\n",
    "    files = search_all_files_return_by_time_reversed(runningPath)\n",
    "    for file in files:\n",
    "        if not os.path.isdir(file) and file.endswith(\".json\"):\n",
    "            with open(file, mode=\"r\",encoding='utf-8') as fd:\n",
    "                temp_dict = json.load(fd)\n",
    "                temp_list=[]\n",
    "                for i in range(14):\n",
    "                    temp_list.append(temp_dict[\"BodyJointsResults\"][0][\"BodyJoints\"][i][\"X\"])\n",
    "                    temp_list.append(temp_dict[\"BodyJointsResults\"][0][\"BodyJoints\"][i][\"Y\"])\n",
    "                origList.append(temp_list)\n",
    "                countList.append(temp_list[0])#通过头部值来计数\n",
    "    if isRunning:\n",
    "        W = getCountW(countList, judgeState)#计算做功\n",
    "        return get_all_angle(origList), get_all_XY(origList), W\n",
    "    else:\n",
    "        #print(origList[0])\n",
    "        #print(standardAction(origList[0])[0].x)\n",
    "        #print(countList)\n",
    "        return get_all_angle(origList)  # 返回各帧的部位角度组\n",
    "    \n",
    "'''\n",
    "if __name__ == \"__main__\":\n",
    "    stanard_anglist=get_alldata(\"./standard/\")\n",
    "'''"
   ]
  },
  {
   "cell_type": "code",
   "execution_count": null,
   "metadata": {},
   "outputs": [],
   "source": []
  },
  {
   "cell_type": "code",
   "execution_count": null,
   "metadata": {},
   "outputs": [],
   "source": []
  },
  {
   "cell_type": "code",
   "execution_count": null,
   "metadata": {},
   "outputs": [],
   "source": []
  },
  {
   "cell_type": "code",
   "execution_count": null,
   "metadata": {},
   "outputs": [],
   "source": []
  },
  {
   "cell_type": "code",
   "execution_count": null,
   "metadata": {},
   "outputs": [],
   "source": []
  },
  {
   "cell_type": "code",
   "execution_count": 61,
   "metadata": {
    "ExecuteTime": {
     "end_time": "2021-07-27T07:16:10.500352Z",
     "start_time": "2021-07-27T07:16:10.483574Z"
    }
   },
   "outputs": [],
   "source": [
    "#个数计算\n",
    "def getTimes(pointXYlist, part, name):\n",
    "    number = 0\n",
    "    pointYList = []\n",
    "    for i in range(len(pointXYlist)):\n",
    "        pointYList.append(pointXYlist[i][part].y)  # 常规的动作一般为克服重力做功\n",
    "\n",
    "    #print(\"Y坐标\")\n",
    "    #print(featureYP)\n",
    "    # 绘图\n",
    "    df = pd.DataFrame(pointYList, index=range(len(pointYList)))\n",
    "    df.plot()\n",
    "    #存图\n",
    "    #ax = df.plot()\n",
    "    #fig = ax.get_figure()\n",
    "    #if os.path.exists(path+name) == False:\n",
    "    #   os.mkdir(path+name)  # 创建目录\n",
    "    #fig.savefig(path+ name + \"/\" + str(part) + \".jpg\")\n",
    "    #plt.close()\n",
    "    mid = (max(pointYList) + min(pointYList)) / 2\n",
    "    #print(\"中值\")\n",
    "    #print(mid)\n",
    "    for i in range(len(pointYList) - 1):\n",
    "        if (pointYList[i] - mid) * (pointYList[i + 1] - mid) < 0:  # 存在一个交点\n",
    "            number = number + 1\n",
    "    return number / 2"
   ]
  },
  {
   "cell_type": "code",
   "execution_count": 35,
   "metadata": {
    "ExecuteTime": {
     "end_time": "2021-07-27T06:14:41.433205Z",
     "start_time": "2021-07-27T06:14:41.420485Z"
    }
   },
   "outputs": [],
   "source": [
    "import math\n",
    "from fastdtw import fastdtw\n",
    "import pandas as pd\n",
    "import copy\n",
    "import matplotlib.pyplot as plt"
   ]
  },
  {
   "cell_type": "code",
   "execution_count": 31,
   "metadata": {
    "ExecuteTime": {
     "end_time": "2021-07-27T06:13:02.029167Z",
     "start_time": "2021-07-27T06:13:02.020574Z"
    }
   },
   "outputs": [],
   "source": [
    "#动态规整，返回规整的结果\n",
    "def fastDtw(nowList, standardList):\n",
    "    distance, path = fastdtw(nowList, standardList, dist=euclidean)\n",
    "    return path"
   ]
  },
  {
   "cell_type": "code",
   "execution_count": 19,
   "metadata": {
    "ExecuteTime": {
     "end_time": "2021-07-27T06:10:48.291584Z",
     "start_time": "2021-07-27T06:10:48.278993Z"
    }
   },
   "outputs": [],
   "source": [
    "def cal_avg(testList, start, end):\n",
    "    result = [0, 0, 0, 0, 0, 0, 0, 0]#由于存在8个角度值，result的size为8\n",
    "    div = end - start + 1\n",
    "    while start <= end:\n",
    "        for i in range(8):\n",
    "            result[i] += testList[start][i]\n",
    "        start += 1\n",
    "    for i in range(8):\n",
    "        result[i] = result[i] / div\n",
    "    return result"
   ]
  },
  {
   "cell_type": "code",
   "execution_count": 20,
   "metadata": {
    "ExecuteTime": {
     "end_time": "2021-07-27T06:10:48.523961Z",
     "start_time": "2021-07-27T06:10:48.509457Z"
    }
   },
   "outputs": [],
   "source": [
    "# 根据path对两个list对齐\n",
    "def alignedList(nowList, standardList, path):\n",
    "    runningNowList = []\n",
    "    runningStandardList = []\n",
    "    ix = 0\n",
    "    ixNext = 1\n",
    "    while ixNext < len(path):\n",
    "        if path[ix][0] != path[ixNext][0] and path[ix][1] != path[ixNext][1]:\n",
    "            runningNowList.append(nowList[path[ix][0]])\n",
    "            runningStandardList.append(standardList[path[ix][1]])\n",
    "            ix += 1\n",
    "            ixNext += 1\n",
    "        elif path[ix][0] == path[ixNext][0]:\n",
    "            #next一直往下取，直至找到存在不重复的\n",
    "            while ixNext < len(path) and path[ix][0] == path[ixNext][0]:\n",
    "                ixNext += 1\n",
    "            #当前的List即填充对应值，标准列表由于存在跳变，计算中间的平均值\n",
    "            runningNowList.append(nowList[path[ix][0]])\n",
    "            runningStandardList.append(cal_avg(standardList, path[ix][1], path[ixNext - 1][1]))\n",
    "            ix = ixNext\n",
    "            ixNext += 1\n",
    "        elif path[ix][1] == path[ixNext][1]: \n",
    "            while ixNext < len(path) and path[ix][1] == path[ixNext][1]:\n",
    "                ixNext += 1\n",
    "            runningNowList.append(cal_avg(nowList, path[ix][0], path[ixNext - 1][0]))\n",
    "            runningStandardList.append(standardList[path[ix][1]])\n",
    "            ix = ixNext\n",
    "            ixNext += 1\n",
    "    return runningNowList, runningStandardList"
   ]
  },
  {
   "cell_type": "code",
   "execution_count": 21,
   "metadata": {
    "ExecuteTime": {
     "end_time": "2021-07-27T06:10:48.743420Z",
     "start_time": "2021-07-27T06:10:48.725224Z"
    }
   },
   "outputs": [],
   "source": [
    "# 得到测试与标准间的距离用于画图\n",
    "def getDisList(runningList, standardList):\n",
    "    result = []\n",
    "    for i in range(len(runningList)):\n",
    "        result.append(getDis(runningList[i], standardList[i]))\n",
    "    return result\n",
    "\n",
    "\n",
    "# 计算当前帧与标准帧的差别\n",
    "def getDis(now, standard):\n",
    "    result = 0\n",
    "    for i in range(len(now)):\n",
    "        result += (now[i] - standard[i]) ** 2\n",
    "    return math.sqrt(result)"
   ]
  },
  {
   "cell_type": "code",
   "execution_count": 22,
   "metadata": {
    "ExecuteTime": {
     "end_time": "2021-07-27T06:10:49.228757Z",
     "start_time": "2021-07-27T06:10:49.218642Z"
    }
   },
   "outputs": [],
   "source": [
    "#绘图代码\n",
    "def DrawChart(times,nowList, standardList, path):\n",
    "    # nowList与standardList长度不等，二者进行对齐\n",
    "    runningNowList, runningStandardList = alignedList(nowList, standardList, path)\n",
    "    # 开始画图\n",
    "    disList = getDisList(runningNowList, runningStandardList)#得到全部帧与标准帧差别的List\n",
    "    df = pd.DataFrame(disList, index=range(len(runningStandardList)))#=range(len(disList))\n",
    "    df.plot()\n",
    "    ax = df.plot()\n",
    "    fig = ax.get_figure()\n",
    "    fig.savefig(\"evaluationResult.jpg\")\n",
    "    plt.close()\n",
    "    # 部位评价\n",
    "    partEvaluation = [0, 0, 0, 0, 0, 0, 0, 0]\n",
    "    for i in range(len(runningNowList[0])):\n",
    "        for j in range(len(runningNowList)):\n",
    "            partEvaluation[i] += abs(runningNowList[j][i] - runningStandardList[j][i])\n",
    "    return partEvaluation"
   ]
  },
  {
   "cell_type": "code",
   "execution_count": 23,
   "metadata": {
    "ExecuteTime": {
     "end_time": "2021-07-27T06:10:50.541442Z",
     "start_time": "2021-07-27T06:10:50.533251Z"
    }
   },
   "outputs": [],
   "source": [
    "#评价函数 传入标准动作角度时间序列和当前动作时间序列以及当前动作执行次数 返回评价与建议\n",
    "def evaluate(standardList, nowList, times):\n",
    "    #先将标准动作拷贝运动次数便\n",
    "    temp = copy.deepcopy(standardList)\n",
    "    for i in range(times - 1):\n",
    "        for j in range(len(temp)):\n",
    "            standardList.append(temp[j])\n",
    "    path = fastDtw(nowList, standardList) #当前序列在前，标准序列在后\n",
    "    proposal = DrawChart(times, nowList, standardList, path)  # 返回建议\n",
    "    return proposal"
   ]
  },
  {
   "cell_type": "code",
   "execution_count": 24,
   "metadata": {
    "ExecuteTime": {
     "end_time": "2021-07-27T06:11:02.077554Z",
     "start_time": "2021-07-27T06:11:02.071460Z"
    }
   },
   "outputs": [],
   "source": [
    "#再根据proposal的值进行判断标准程度"
   ]
  },
  {
   "cell_type": "code",
   "execution_count": 65,
   "metadata": {
    "ExecuteTime": {
     "end_time": "2021-07-27T07:17:51.470068Z",
     "start_time": "2021-07-27T07:17:50.985549Z"
    }
   },
   "outputs": [
    {
     "name": "stdout",
     "output_type": "stream",
     "text": [
      "[1.5904545169816227, 1.8224416402302546, 1.4994176233400793, 1.9391006832038828, 0.7881165509142195, 0.02131541134218362, 0.8658385739821525, 0.03103051919067512]\n"
     ]
    },
    {
     "data": {
      "image/png": "[encoded data removed]",
      "text/plain": [
       "<Figure size 432x288 with 1 Axes>"
      ]
     },
     "metadata": {
      "needs_background": "light"
     },
     "output_type": "display_data"
    },
    {
     "data": {
      "image/png": "[encoded data removed]",
      "text/plain": [
       "<Figure size 432x288 with 1 Axes>"
      ]
     },
     "metadata": {
      "needs_background": "light"
     },
     "output_type": "display_data"
    }
   ],
   "source": [
    "#主函数\n",
    "\n",
    "#输入标准和当前两个json序列  输出评价矩阵 表示各个角的偏差\n",
    "stanard_anglist=get_alldata(\"./standard/\")#获取标准动作\n",
    "now_anglist,now_xy_list,W=get_alldata(\"./now/\",isRunning=True)#获取当前动作信息\n",
    "times = getTimes(now_xy_list,0,\"test\")#计算运动个数 由于采用头部计数 传入0 头部的X即为各个List的第一个值\n",
    "#print(times)\n",
    "proposal=evaluate(stanard_anglist,now_anglist,int(times))\n",
    "print(proposal)"
   ]
  },
  {
   "cell_type": "code",
   "execution_count": null,
   "metadata": {},
   "outputs": [],
   "source": []
  }
 ],
 "metadata": {
  "kernelspec": {
   "display_name": "Python 3",
   "language": "python",
   "name": "python3"
  },
  "language_info": {
   "codemirror_mode": {
    "name": "ipython",
    "version": 3
   },
   "file_extension": ".py",
   "mimetype": "text/x-python",
   "name": "python",
   "nbconvert_exporter": "python",
   "pygments_lexer": "ipython3",
   "version": "3.6.7"
  },
  "toc": {
   "base_numbering": 1,
   "nav_menu": {},
   "number_sections": true,
   "sideBar": true,
   "skip_h1_title": false,
   "title_cell": "Table of Contents",
   "title_sidebar": "Contents",
   "toc_cell": false,
   "toc_position": {},
   "toc_section_display": true,
   "toc_window_display": false
  }
 },
 "nbformat": 4,
 "nbformat_minor": 4
}
