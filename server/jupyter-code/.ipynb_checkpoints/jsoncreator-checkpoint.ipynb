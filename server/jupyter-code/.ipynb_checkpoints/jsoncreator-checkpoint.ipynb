{
 "cells": [
  {
   "cell_type": "code",
   "execution_count": 17,
   "metadata": {
    "ExecuteTime": {
     "end_time": "2021-07-26T11:51:23.162409Z",
     "start_time": "2021-07-26T11:51:23.109920Z"
    }
   },
   "outputs": [],
   "source": [
    "import json\n",
    "from tencentcloud.common import credential\n",
    "from tencentcloud.common.profile.client_profile import ClientProfile\n",
    "from tencentcloud.common.profile.http_profile import HttpProfile\n",
    "from tencentcloud.common.exception.tencent_cloud_sdk_exception import TencentCloudSDKException\n",
    "from tencentcloud.bda.v20200324 import bda_client, models\n",
    "import base64\n",
    "import os"
   ]
  },
  {
   "cell_type": "code",
   "execution_count": 3,
   "metadata": {
    "ExecuteTime": {
     "end_time": "2021-07-26T11:36:29.428318Z",
     "start_time": "2021-07-26T11:36:29.034347Z"
    },
    "code_folding": []
   },
   "outputs": [],
   "source": [
    "#按秒分隔视频\n",
    "'''\n",
    "import cv2\n",
    "imgpath=\"C:/Users/Hp/Desktop/posedemo/image/\"\n",
    "vidcap = cv2.VideoCapture('chinning.avi')\n",
    "def getFrame(sec):\n",
    "    vidcap.set(cv2.CAP_PROP_POS_MSEC,sec*1000)\n",
    "    hasFrames,image = vidcap.read()\n",
    "    if hasFrames:\n",
    "        cv2.imwrite(imgpath+str(count)+\".jpg\", image)     # save frame as JPG file\n",
    "    return hasFrames\n",
    "sec = 0\n",
    "frameRate = 0.5 #//it will capture image in each 0.5 second\n",
    "count=1\n",
    "success = getFrame(sec)\n",
    "while success:\n",
    "    count = count + 1\n",
    "    sec = sec + frameRate\n",
    "    sec = round(sec, 2)\n",
    "    success = getFrame(sec)"
   ]
  },
  {
   "cell_type": "code",
   "execution_count": 23,
   "metadata": {
    "ExecuteTime": {
     "end_time": "2021-07-26T11:53:57.099886Z",
     "start_time": "2021-07-26T11:53:57.092818Z"
    }
   },
   "outputs": [],
   "source": [
    "#图片的base64生成\n",
    "'''\n",
    "with open(\"C://Users//Hp//Desktop//posedemo/image//1.jpg\",\"rb\") as f:\n",
    "  # b64encode是编码，b64decode是解码\n",
    "  base64_data = base64.b64encode(f.read())\n",
    "  # base64.b64decode(base64data)\n",
    "  #print(str(base64_data).replace('\\'',''))\n",
    "  img_base64=str(base64_data).replace('\\'','')\n",
    "  img_base64=\"data:image/jpg;base64,\"+img_base64[1:]\n",
    "  #print(img_base64)\n",
    "\n",
    "#test=\"http://5b0988e595225.cdn.sohucs.com/images/20180704/8ac05240cc944bb9a85ee6b119aba5c9.jpeg\"\n",
    "print(img_base64)"
   ]
  },
  {
   "cell_type": "code",
   "execution_count": 21,
   "metadata": {
    "ExecuteTime": {
     "end_time": "2021-07-26T11:52:54.527271Z",
     "start_time": "2021-07-26T11:52:52.733786Z"
    }
   },
   "outputs": [
    {
     "ename": "error",
     "evalue": "OpenCV(4.4.0) C:\\Users\\appveyor\\AppData\\Local\\Temp\\1\\pip-req-build-nxx381if\\opencv\\modules\\imgcodecs\\src\\loadsave.cpp:738: error: (-215:Assertion failed) !_img.empty() in function 'cv::imwrite'\n",
     "output_type": "error",
     "traceback": [
      "\u001b[1;31m---------------------------------------------------------------------------\u001b[0m",
      "\u001b[1;31merror\u001b[0m                                     Traceback (most recent call last)",
      "\u001b[1;32m<ipython-input-21-1c61fc531ac9>\u001b[0m in \u001b[0;36m<module>\u001b[1;34m\u001b[0m\n\u001b[0;32m     19\u001b[0m             \u001b[1;32mbreak\u001b[0m\u001b[1;33m\u001b[0m\u001b[1;33m\u001b[0m\u001b[0m\n\u001b[0;32m     20\u001b[0m \u001b[1;33m\u001b[0m\u001b[0m\n\u001b[1;32m---> 21\u001b[1;33m \u001b[0mprocess_video\u001b[0m\u001b[1;33m(\u001b[0m\u001b[1;34m'chinning.avi'\u001b[0m\u001b[1;33m,\u001b[0m\u001b[1;34m\"C:/Users/Hp/Desktop/posedemo/image/\"\u001b[0m\u001b[1;33m,\u001b[0m\u001b[1;36m1\u001b[0m\u001b[1;33m)\u001b[0m\u001b[1;33m\u001b[0m\u001b[1;33m\u001b[0m\u001b[0m\n\u001b[0m",
      "\u001b[1;32m<ipython-input-21-1c61fc531ac9>\u001b[0m in \u001b[0;36mprocess_video\u001b[1;34m(i_video, o_video, num)\u001b[0m\n\u001b[0;32m     14\u001b[0m         \u001b[1;32mif\u001b[0m \u001b[0mcnt\u001b[0m \u001b[1;33m%\u001b[0m \u001b[0mnum\u001b[0m \u001b[1;33m==\u001b[0m \u001b[1;36m0\u001b[0m\u001b[1;33m:\u001b[0m\u001b[1;33m\u001b[0m\u001b[1;33m\u001b[0m\u001b[0m\n\u001b[0;32m     15\u001b[0m             \u001b[0mcount\u001b[0m \u001b[1;33m+=\u001b[0m \u001b[1;36m1\u001b[0m\u001b[1;33m\u001b[0m\u001b[1;33m\u001b[0m\u001b[0m\n\u001b[1;32m---> 16\u001b[1;33m             \u001b[0mcv2\u001b[0m\u001b[1;33m.\u001b[0m\u001b[0mimwrite\u001b[0m\u001b[1;33m(\u001b[0m\u001b[0mos\u001b[0m\u001b[1;33m.\u001b[0m\u001b[0mpath\u001b[0m\u001b[1;33m.\u001b[0m\u001b[0mjoin\u001b[0m\u001b[1;33m(\u001b[0m\u001b[0mo_video\u001b[0m\u001b[1;33m,\u001b[0m \u001b[0mstr\u001b[0m\u001b[1;33m(\u001b[0m\u001b[0mcount\u001b[0m\u001b[1;33m)\u001b[0m \u001b[1;33m+\u001b[0m \u001b[0mexpand_name\u001b[0m\u001b[1;33m)\u001b[0m\u001b[1;33m,\u001b[0m \u001b[0mframe\u001b[0m\u001b[1;33m)\u001b[0m\u001b[1;33m\u001b[0m\u001b[1;33m\u001b[0m\u001b[0m\n\u001b[0m\u001b[0;32m     17\u001b[0m \u001b[1;33m\u001b[0m\u001b[0m\n\u001b[0;32m     18\u001b[0m         \u001b[1;32mif\u001b[0m \u001b[1;32mnot\u001b[0m \u001b[0mret\u001b[0m\u001b[1;33m:\u001b[0m\u001b[1;33m\u001b[0m\u001b[1;33m\u001b[0m\u001b[0m\n",
      "\u001b[1;31merror\u001b[0m: OpenCV(4.4.0) C:\\Users\\appveyor\\AppData\\Local\\Temp\\1\\pip-req-build-nxx381if\\opencv\\modules\\imgcodecs\\src\\loadsave.cpp:738: error: (-215:Assertion failed) !_img.empty() in function 'cv::imwrite'\n"
     ]
    }
   ],
   "source": [
    "#用于将视频处理为图片,num帧处理一次\n",
    "'''\n",
    "def process_video(i_video, o_video, num):\n",
    "    cap = cv2.VideoCapture(i_video)\n",
    "    num_frame = cap.get(cv2.CAP_PROP_FRAME_COUNT)\n",
    "    expand_name = '.jpg'\n",
    "    if not cap.isOpened():\n",
    "        print(\"Please check the path.\")\n",
    "    cnt = 0\n",
    "    count = 0\n",
    "    while 1:\n",
    "        ret, frame = cap.read()\n",
    "        cnt += 1\n",
    "        if cnt % num == 0:\n",
    "            count += 1\n",
    "            cv2.imwrite(os.path.join(o_video, str(count) + expand_name), frame)\n",
    " \n",
    "        if not ret:\n",
    "            break\n",
    "            \n",
    "process_video('chinning.avi',\"C:/Users/Hp/Desktop/posedemo/image/\",1)"
   ]
  },
  {
   "cell_type": "code",
   "execution_count": 51,
   "metadata": {
    "ExecuteTime": {
     "end_time": "2021-07-26T12:29:13.706694Z",
     "start_time": "2021-07-26T12:29:13.698554Z"
    }
   },
   "outputs": [],
   "source": [
    "#实现np图片转base64 并加base64头\n",
    "def image_to_base64(image_np):\n",
    " \n",
    "    image = cv2.imencode('.jpg',image_np)[1]\n",
    "    image_code = str(base64.b64encode(image))[2:-1]\n",
    "    image_base64=\"data:image/jpg;base64,\"+image_code\n",
    "    #print(image_code[0:100])\n",
    "    #print(image_base64[0:100])\n",
    " \n",
    "    return image_base64"
   ]
  },
  {
   "cell_type": "code",
   "execution_count": 38,
   "metadata": {
    "ExecuteTime": {
     "end_time": "2021-07-26T12:17:19.946973Z",
     "start_time": "2021-07-26T12:17:19.926777Z"
    }
   },
   "outputs": [
    {
     "ename": "SyntaxError",
     "evalue": "EOF while scanning triple-quoted string literal (<ipython-input-38-6a232eb4236f>, line 8)",
     "output_type": "error",
     "traceback": [
      "\u001b[1;36m  File \u001b[1;32m\"<ipython-input-38-6a232eb4236f>\"\u001b[1;36m, line \u001b[1;32m8\u001b[0m\n\u001b[1;33m    print(img_code)\u001b[0m\n\u001b[1;37m                   \n^\u001b[0m\n\u001b[1;31mSyntaxError\u001b[0m\u001b[1;31m:\u001b[0m EOF while scanning triple-quoted string literal\n"
     ]
    }
   ],
   "source": [
    "#测试代码\n",
    "'''\n",
    "cap = cv2.VideoCapture('chinning.avi')\n",
    "num_frame = cap.get(cv2.CAP_PROP_FRAME_COUNT)\n",
    "ref,frame=cap.read()\n",
    "\n",
    "img_code=image_to_base64(frame)\n",
    "print(img_code)"
   ]
  },
  {
   "cell_type": "code",
   "execution_count": 40,
   "metadata": {
    "ExecuteTime": {
     "end_time": "2021-07-26T12:18:17.975321Z",
     "start_time": "2021-07-26T12:18:17.962222Z"
    }
   },
   "outputs": [],
   "source": [
    "#输入图片的base64和json文件名 在指定文件位置生成json\n",
    "def jsoncreator(img_base64,i,output):\n",
    "    try: \n",
    "        cred = credential.Credential(\"\", \"\") \n",
    "        httpProfile = HttpProfile()\n",
    "        httpProfile.endpoint = \"bda.tencentcloudapi.com\"\n",
    "\n",
    "        clientProfile = ClientProfile()\n",
    "        clientProfile.httpProfile = httpProfile\n",
    "        client = bda_client.BdaClient(cred, \"\", clientProfile) \n",
    "\n",
    "        req = models.DetectBodyJointsRequest()\n",
    "        params = {\n",
    "            #\"Url\":test\n",
    "            #\"Url\":\"testapi.jpg\"\n",
    "            #\"Url\":\"https://z3.ax1x.com/2021/07/22/WDTrdS.png\"\n",
    "            \"Image\":img_base64\n",
    "        }\n",
    "        req.from_json_string(json.dumps(params))   \n",
    "        resp = client.DetectBodyJoints(req)\n",
    "        #print(resp)\n",
    "        resp_string=resp.to_json_string()\n",
    "        #print(resp_string)\n",
    "        resp_dict = json.loads(resp_string)\n",
    "        #print(resp_dict)\n",
    "        with open(output+str(i)+\".json\",'w',encoding='utf-8') as json_file:\n",
    "            json.dump(resp_dict,json_file,ensure_ascii=False)\n",
    "\n",
    "    except TencentCloudSDKException as err: \n",
    "            print(err) "
   ]
  },
  {
   "cell_type": "code",
   "execution_count": 43,
   "metadata": {
    "ExecuteTime": {
     "end_time": "2021-07-26T12:19:19.607135Z",
     "start_time": "2021-07-26T12:19:18.966546Z"
    }
   },
   "outputs": [],
   "source": [
    "jsoncreator(img_code,1,\"./standard/\")"
   ]
  },
  {
   "cell_type": "code",
   "execution_count": 54,
   "metadata": {
    "ExecuteTime": {
     "end_time": "2021-07-26T12:31:11.260962Z",
     "start_time": "2021-07-26T12:30:03.876260Z"
    }
   },
   "outputs": [
    {
     "name": "stdout",
     "output_type": "stream",
     "text": [
      "[TencentCloudSDKException] code:InternalError message:内部服务错误，请稍后重试。 requestId:e72e75aa-b404-4759-9f21-9eb4c0309100\n",
      "[TencentCloudSDKException] code:FailedOperation.NoBodyInPhoto message:图片中没有人体。 requestId:c80bb670-2295-41a2-a5dd-943373f28e96\n",
      "[TencentCloudSDKException] code:FailedOperation.NoBodyInPhoto message:图片中没有人体。 requestId:9f0cce23-0e88-418c-a141-35fdac800721\n"
     ]
    },
    {
     "ename": "error",
     "evalue": "OpenCV(4.4.0) C:\\Users\\appveyor\\AppData\\Local\\Temp\\1\\pip-req-build-nxx381if\\opencv\\modules\\imgcodecs\\src\\loadsave.cpp:738: error: (-215:Assertion failed) !_img.empty() in function 'cv::imwrite'\n",
     "output_type": "error",
     "traceback": [
      "\u001b[1;31m---------------------------------------------------------------------------\u001b[0m",
      "\u001b[1;31merror\u001b[0m                                     Traceback (most recent call last)",
      "\u001b[1;32m<ipython-input-54-06824c94927f>\u001b[0m in \u001b[0;36m<module>\u001b[1;34m\u001b[0m\n\u001b[0;32m     21\u001b[0m \u001b[1;33m\u001b[0m\u001b[0m\n\u001b[0;32m     22\u001b[0m \u001b[1;33m\u001b[0m\u001b[0m\n\u001b[1;32m---> 23\u001b[1;33m \u001b[0mvideo_to_json\u001b[0m\u001b[1;33m(\u001b[0m\u001b[1;34m'chinning.avi'\u001b[0m\u001b[1;33m,\u001b[0m\u001b[1;34m\"C:/Users/Hp/Desktop/posedemo/image/\"\u001b[0m\u001b[1;33m,\u001b[0m\u001b[1;34m\"./standard/\"\u001b[0m\u001b[1;33m,\u001b[0m\u001b[1;36m1\u001b[0m\u001b[1;33m)\u001b[0m\u001b[1;33m\u001b[0m\u001b[1;33m\u001b[0m\u001b[0m\n\u001b[0m",
      "\u001b[1;32m<ipython-input-54-06824c94927f>\u001b[0m in \u001b[0;36mvideo_to_json\u001b[1;34m(i_video, o_video, o_json, num)\u001b[0m\n\u001b[0;32m     14\u001b[0m             \u001b[0mcount\u001b[0m \u001b[1;33m+=\u001b[0m \u001b[1;36m1\u001b[0m\u001b[1;33m\u001b[0m\u001b[1;33m\u001b[0m\u001b[0m\n\u001b[0;32m     15\u001b[0m             \u001b[1;31m#取消注释即写入图片\u001b[0m\u001b[1;33m\u001b[0m\u001b[1;33m\u001b[0m\u001b[1;33m\u001b[0m\u001b[0m\n\u001b[1;32m---> 16\u001b[1;33m             \u001b[0mcv2\u001b[0m\u001b[1;33m.\u001b[0m\u001b[0mimwrite\u001b[0m\u001b[1;33m(\u001b[0m\u001b[0mos\u001b[0m\u001b[1;33m.\u001b[0m\u001b[0mpath\u001b[0m\u001b[1;33m.\u001b[0m\u001b[0mjoin\u001b[0m\u001b[1;33m(\u001b[0m\u001b[0mo_video\u001b[0m\u001b[1;33m,\u001b[0m \u001b[0mstr\u001b[0m\u001b[1;33m(\u001b[0m\u001b[0mcount\u001b[0m\u001b[1;33m)\u001b[0m \u001b[1;33m+\u001b[0m \u001b[0mexpand_name\u001b[0m\u001b[1;33m)\u001b[0m\u001b[1;33m,\u001b[0m \u001b[0mframe\u001b[0m\u001b[1;33m)\u001b[0m\u001b[1;33m\u001b[0m\u001b[1;33m\u001b[0m\u001b[0m\n\u001b[0m\u001b[0;32m     17\u001b[0m             \u001b[0mimg_base64\u001b[0m\u001b[1;33m=\u001b[0m\u001b[0mimage_to_base64\u001b[0m\u001b[1;33m(\u001b[0m\u001b[0mframe\u001b[0m\u001b[1;33m)\u001b[0m\u001b[1;33m\u001b[0m\u001b[1;33m\u001b[0m\u001b[0m\n\u001b[0;32m     18\u001b[0m             \u001b[0mjsoncreator\u001b[0m\u001b[1;33m(\u001b[0m\u001b[0mimg_base64\u001b[0m\u001b[1;33m,\u001b[0m\u001b[0mcount\u001b[0m\u001b[1;33m,\u001b[0m\u001b[0mo_json\u001b[0m\u001b[1;33m)\u001b[0m\u001b[1;33m\u001b[0m\u001b[1;33m\u001b[0m\u001b[0m\n",
      "\u001b[1;31merror\u001b[0m: OpenCV(4.4.0) C:\\Users\\appveyor\\AppData\\Local\\Temp\\1\\pip-req-build-nxx381if\\opencv\\modules\\imgcodecs\\src\\loadsave.cpp:738: error: (-215:Assertion failed) !_img.empty() in function 'cv::imwrite'\n"
     ]
    }
   ],
   "source": [
    "#视频生成json文件 输入视频位置 输出图片文件夹 以num帧为单位处理一次 json文件将存储在standard文件夹下\n",
    "def video_to_json(i_video, o_video,o_json,num):\n",
    "    cap = cv2.VideoCapture(i_video)\n",
    "    num_frame = cap.get(cv2.CAP_PROP_FRAME_COUNT)#获取视频总帧数\n",
    "    expand_name = '.jpg'\n",
    "    if not cap.isOpened():\n",
    "        print(\"Please check the path.\")\n",
    "    cnt = 0 #当前帧\n",
    "    count = 0  #处理帧数\n",
    "    while 1:\n",
    "        ret, frame = cap.read()\n",
    "        cnt += 1\n",
    "        if cnt % num == 0:\n",
    "            count += 1\n",
    "            #取消注释即写入图片\n",
    "            cv2.imwrite(os.path.join(o_video, str(count) + expand_name), frame)\n",
    "            img_base64=image_to_base64(frame)\n",
    "            jsoncreator(img_base64,count,o_json)\n",
    "        if not ret:\n",
    "            break\n",
    "            \n",
    "            \n",
    "video_to_json('chinning.avi',\"C:/Users/Hp/Desktop/posedemo/image/\",\"./standard/\",1)"
   ]
  },
  {
   "cell_type": "code",
   "execution_count": 7,
   "metadata": {
    "ExecuteTime": {
     "end_time": "2021-07-27T06:42:24.050649Z",
     "start_time": "2021-07-27T06:42:13.049898Z"
    }
   },
   "outputs": [
    {
     "name": "stdout",
     "output_type": "stream",
     "text": [
      "[TencentCloudSDKException] code:FailedOperation.NoBodyInPhoto message:图片中没有人体。 requestId:288f2e9e-683d-414a-bf1a-b949976e8707\n",
      "[TencentCloudSDKException] code:FailedOperation.NoBodyInPhoto message:图片中没有人体。 requestId:c5e7ba69-ba3f-4d87-92b5-6716c5806422\n"
     ]
    },
    {
     "ename": "error",
     "evalue": "OpenCV(4.4.0) C:\\Users\\appveyor\\AppData\\Local\\Temp\\1\\pip-req-build-nxx381if\\opencv\\modules\\imgcodecs\\src\\loadsave.cpp:919: error: (-215:Assertion failed) !image.empty() in function 'cv::imencode'\n",
     "output_type": "error",
     "traceback": [
      "\u001b[1;31m---------------------------------------------------------\u001b[0m",
      "\u001b[1;31merror\u001b[0m                   Traceback (most recent call last)",
      "\u001b[1;32m<ipython-input-7-01861b66e94e>\u001b[0m in \u001b[0;36m<module>\u001b[1;34m\u001b[0m\n\u001b[0;32m     74\u001b[0m \u001b[1;33m\u001b[0m\u001b[0m\n\u001b[0;32m     75\u001b[0m \u001b[1;32mif\u001b[0m \u001b[0m__name__\u001b[0m \u001b[1;33m==\u001b[0m \u001b[1;34m\"__main__\"\u001b[0m\u001b[1;33m:\u001b[0m\u001b[1;33m\u001b[0m\u001b[1;33m\u001b[0m\u001b[0m\n\u001b[1;32m---> 76\u001b[1;33m     \u001b[0mvideo_to_json\u001b[0m\u001b[1;33m(\u001b[0m\u001b[1;34m'standard_chinning.avi'\u001b[0m\u001b[1;33m,\u001b[0m\u001b[1;34m\"C:/Users/Hp/Desktop/posedemo/image/\"\u001b[0m\u001b[1;33m,\u001b[0m\u001b[1;34m\"./standard/\"\u001b[0m\u001b[1;33m,\u001b[0m\u001b[1;36m2\u001b[0m\u001b[1;33m)\u001b[0m\u001b[1;33m\u001b[0m\u001b[1;33m\u001b[0m\u001b[0m\n\u001b[0m",
      "\u001b[1;32m<ipython-input-7-01861b66e94e>\u001b[0m in \u001b[0;36mvideo_to_json\u001b[1;34m(i_video, o_video, o_json, num)\u001b[0m\n\u001b[0;32m     68\u001b[0m             \u001b[1;31m#取消注释即写入图片\u001b[0m\u001b[1;33m\u001b[0m\u001b[1;33m\u001b[0m\u001b[1;33m\u001b[0m\u001b[0m\n\u001b[0;32m     69\u001b[0m             \u001b[1;31m#cv2.imwrite(os.path.join(o_video, str(count) + expand_name), frame)\u001b[0m\u001b[1;33m\u001b[0m\u001b[1;33m\u001b[0m\u001b[1;33m\u001b[0m\u001b[0m\n\u001b[1;32m---> 70\u001b[1;33m             \u001b[0mimg_base64\u001b[0m\u001b[1;33m=\u001b[0m\u001b[0mimage_to_base64\u001b[0m\u001b[1;33m(\u001b[0m\u001b[0mframe\u001b[0m\u001b[1;33m)\u001b[0m\u001b[1;33m\u001b[0m\u001b[1;33m\u001b[0m\u001b[0m\n\u001b[0m\u001b[0;32m     71\u001b[0m             \u001b[0mjsoncreator\u001b[0m\u001b[1;33m(\u001b[0m\u001b[0mimg_base64\u001b[0m\u001b[1;33m,\u001b[0m\u001b[0mcount\u001b[0m\u001b[1;33m,\u001b[0m\u001b[0mo_json\u001b[0m\u001b[1;33m)\u001b[0m\u001b[1;33m\u001b[0m\u001b[1;33m\u001b[0m\u001b[0m\n\u001b[0;32m     72\u001b[0m         \u001b[1;32mif\u001b[0m \u001b[1;32mnot\u001b[0m \u001b[0mret\u001b[0m\u001b[1;33m:\u001b[0m\u001b[1;33m\u001b[0m\u001b[1;33m\u001b[0m\u001b[0m\n",
      "\u001b[1;32m<ipython-input-7-01861b66e94e>\u001b[0m in \u001b[0;36mimage_to_base64\u001b[1;34m(image_np)\u001b[0m\n\u001b[0;32m     13\u001b[0m \u001b[1;32mdef\u001b[0m \u001b[0mimage_to_base64\u001b[0m\u001b[1;33m(\u001b[0m\u001b[0mimage_np\u001b[0m\u001b[1;33m)\u001b[0m\u001b[1;33m:\u001b[0m\u001b[1;33m\u001b[0m\u001b[1;33m\u001b[0m\u001b[0m\n\u001b[0;32m     14\u001b[0m \u001b[1;33m\u001b[0m\u001b[0m\n\u001b[1;32m---> 15\u001b[1;33m     \u001b[0mimage\u001b[0m \u001b[1;33m=\u001b[0m \u001b[0mcv2\u001b[0m\u001b[1;33m.\u001b[0m\u001b[0mimencode\u001b[0m\u001b[1;33m(\u001b[0m\u001b[1;34m'.jpg'\u001b[0m\u001b[1;33m,\u001b[0m\u001b[0mimage_np\u001b[0m\u001b[1;33m)\u001b[0m\u001b[1;33m[\u001b[0m\u001b[1;36m1\u001b[0m\u001b[1;33m]\u001b[0m\u001b[1;33m\u001b[0m\u001b[1;33m\u001b[0m\u001b[0m\n\u001b[0m\u001b[0;32m     16\u001b[0m     \u001b[0mimage_code\u001b[0m \u001b[1;33m=\u001b[0m \u001b[0mstr\u001b[0m\u001b[1;33m(\u001b[0m\u001b[0mbase64\u001b[0m\u001b[1;33m.\u001b[0m\u001b[0mb64encode\u001b[0m\u001b[1;33m(\u001b[0m\u001b[0mimage\u001b[0m\u001b[1;33m)\u001b[0m\u001b[1;33m)\u001b[0m\u001b[1;33m[\u001b[0m\u001b[1;36m2\u001b[0m\u001b[1;33m:\u001b[0m\u001b[1;33m-\u001b[0m\u001b[1;36m1\u001b[0m\u001b[1;33m]\u001b[0m\u001b[1;33m\u001b[0m\u001b[1;33m\u001b[0m\u001b[0m\n\u001b[0;32m     17\u001b[0m     \u001b[0mimage_base64\u001b[0m\u001b[1;33m=\u001b[0m\u001b[1;34m\"data:image/jpg;base64,\"\u001b[0m\u001b[1;33m+\u001b[0m\u001b[0mimage_code\u001b[0m\u001b[1;33m\u001b[0m\u001b[1;33m\u001b[0m\u001b[0m\n",
      "\u001b[1;31merror\u001b[0m: OpenCV(4.4.0) C:\\Users\\appveyor\\AppData\\Local\\Temp\\1\\pip-req-build-nxx381if\\opencv\\modules\\imgcodecs\\src\\loadsave.cpp:919: error: (-215:Assertion failed) !image.empty() in function 'cv::imencode'\n"
     ]
    }
   ],
   "source": [
    "#视频到json文件如下\n",
    "import json\n",
    "from tencentcloud.common import credential\n",
    "from tencentcloud.common.profile.client_profile import ClientProfile\n",
    "from tencentcloud.common.profile.http_profile import HttpProfile\n",
    "from tencentcloud.common.exception.tencent_cloud_sdk_exception import TencentCloudSDKException\n",
    "from tencentcloud.bda.v20200324 import bda_client, models\n",
    "import base64\n",
    "import cv2\n",
    "import os\n",
    "\n",
    "#实现np图片转base64 并加base64头\n",
    "def image_to_base64(image_np):\n",
    " \n",
    "    image = cv2.imencode('.jpg',image_np)[1]\n",
    "    image_code = str(base64.b64encode(image))[2:-1]\n",
    "    image_base64=\"data:image/jpg;base64,\"+image_code\n",
    "    #print(image_code[0:100])\n",
    "    #print(image_base64[0:100])\n",
    " \n",
    "    return image_base64\n",
    "\n",
    "#输入图片的base64和json文件名 在指定文件位置生成json\n",
    "def jsoncreator(img_base64,i,output):\n",
    "    try: \n",
    "        #Add your Credential\n",
    "        cred = credential.Credential(\"\", \"\") \n",
    "        httpProfile = HttpProfile()\n",
    "        httpProfile.endpoint = \"bda.tencentcloudapi.com\"\n",
    "\n",
    "        clientProfile = ClientProfile()\n",
    "        clientProfile.httpProfile = httpProfile\n",
    "        client = bda_client.BdaClient(cred, \"\", clientProfile) \n",
    "\n",
    "        req = models.DetectBodyJointsRequest()\n",
    "        params = {\n",
    "            #\"Url\":test\n",
    "            #\"Url\":\"testapi.jpg\"\n",
    "            #\"Url\":\"https://z3.ax1x.com/2021/07/22/WDTrdS.png\"\n",
    "            \"Image\":img_base64\n",
    "        }\n",
    "        req.from_json_string(json.dumps(params))   \n",
    "        resp = client.DetectBodyJoints(req)\n",
    "        #print(resp)\n",
    "        resp_string=resp.to_json_string()\n",
    "        #print(resp_string)\n",
    "        resp_dict = json.loads(resp_string)\n",
    "        #print(resp_dict)\n",
    "        with open(output+str(i)+\".json\",'w',encoding='utf-8') as json_file:\n",
    "            json.dump(resp_dict,json_file,ensure_ascii=False)\n",
    "\n",
    "    except TencentCloudSDKException as err: \n",
    "            print(err) \n",
    "\n",
    "#视频生成json文件 输入视频位置 输出图片文件夹 以num帧为单位处理一次 json文件将存储在standard文件夹下\n",
    "def video_to_json(i_video, o_video,o_json,num):#input_video_path; output_video_path; output_json_path; working_num\n",
    "    cap = cv2.VideoCapture(i_video)\n",
    "    num_frame = cap.get(cv2.CAP_PROP_FRAME_COUNT)#获取视频总帧数\n",
    "    expand_name = '.jpg'\n",
    "    if not cap.isOpened():\n",
    "        print(\"Please check the path.\")\n",
    "    cnt = 0 #当前帧\n",
    "    count = 0  #处理帧数\n",
    "    while 1:\n",
    "        ret, frame = cap.read()\n",
    "        cnt += 1\n",
    "        if cnt % num == 0:\n",
    "            count += 1\n",
    "            #取消注释即写入图片\n",
    "            #cv2.imwrite(os.path.join(o_video, str(count) + expand_name), frame)\n",
    "            img_base64=image_to_base64(frame)\n",
    "            jsoncreator(img_base64,count,o_json)\n",
    "        if not ret:\n",
    "            break\n",
    "            \n",
    "if __name__ == \"__main__\":         \n",
    "    video_to_json('standard_chinning.avi',\"C:/Users/Hp/Desktop/posedemo/image/\",\"./standard/\",2)"
   ]
  },
  {
   "cell_type": "code",
   "execution_count": null,
   "metadata": {},
   "outputs": [],
   "source": []
  }
 ],
 "metadata": {
  "kernelspec": {
   "display_name": "Python 3",
   "language": "python",
   "name": "python3"
  },
  "language_info": {
   "codemirror_mode": {
    "name": "ipython",
    "version": 3
   },
   "file_extension": ".py",
   "mimetype": "text/x-python",
   "name": "python",
   "nbconvert_exporter": "python",
   "pygments_lexer": "ipython3",
   "version": "3.6.7"
  },
  "toc": {
   "base_numbering": 1,
   "nav_menu": {},
   "number_sections": true,
   "sideBar": true,
   "skip_h1_title": false,
   "title_cell": "Table of Contents",
   "title_sidebar": "Contents",
   "toc_cell": false,
   "toc_position": {},
   "toc_section_display": true,
   "toc_window_display": false
  }
 },
 "nbformat": 4,
 "nbformat_minor": 4
}
